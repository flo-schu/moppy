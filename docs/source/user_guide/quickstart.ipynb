{
 "cells": [
  {
   "cell_type": "markdown",
   "metadata": {},
   "source": [
    "# Pymob quickstart\n",
    "\n",
    "## Initialize a simulation\n",
    "\n",
    "In pymob a Simulation object is initialized by calling the {class}`pymob.simulation.SimulationBase` class from the simulation module."
   ]
  },
  {
   "cell_type": "code",
   "execution_count": null,
   "metadata": {},
   "outputs": [],
   "source": [
    "from pymob.simulation import SimulationBase\n",
    "\n",
    "sim = SimulationBase()"
   ]
  },
  {
   "cell_type": "markdown",
   "metadata": {},
   "source": [
    "```{admonition} Configuring the simulation\n",
    ":class: hint\n",
    "Optionally, we can configure the simulation at this stage with \n",
    "`sim.config.case_study.name = \"linear-regression\"`, `sim.config.case_study.scenario = \"test\"`, and many more options. \n",
    "```\n",
    "\n",
    "## Define a model \n",
    "\n",
    "Let's investigate a linear regression as the most simple task."
   ]
  },
  {
   "cell_type": "code",
   "execution_count": null,
   "metadata": {},
   "outputs": [],
   "source": [
    "def linreg(x, a, b):\n",
    "    return a + x * b"
   ]
  },
  {
   "cell_type": "markdown",
   "metadata": {},
   "source": [
    "So we assume that this model describes our data well. So we add it to the simulation"
   ]
  },
  {
   "cell_type": "code",
   "execution_count": null,
   "metadata": {},
   "outputs": [],
   "source": [
    "sim.model = linreg"
   ]
  },
  {
   "cell_type": "markdown",
   "metadata": {},
   "source": [
    "\n",
    "## Defining a solver\n",
    "\n",
    "In our case the model gives the exact solution of the model.\n",
    "Solvers in pymob are callables that need to return a dictionary of results mapped to the data variables\n"
   ]
  },
  {
   "cell_type": "code",
   "execution_count": null,
   "metadata": {},
   "outputs": [],
   "source": [
    "from pymob.sim.solvetools import solve_analytic_1d\n",
    "sim.solver = solve_analytic_1d"
   ]
  },
  {
   "cell_type": "markdown",
   "metadata": {},
   "source": [
    "\n",
    "## Generate artificial data\n",
    "\n",
    "In the real world, you will have measured a dataset. For demonstration, we define parameters $theta$, that we assume describe the true data generating process and generate observations $y$. Then we\n",
    "generate data for $x$ on [-5, 5] and add random noise with a standard deviation of $\\sigma_y = 1$."
   ]
  },
  {
   "cell_type": "code",
   "execution_count": null,
   "metadata": {},
   "outputs": [],
   "source": [
    "import numpy as np\n",
    "rng = np.random.default_rng(1)\n",
    "\n",
    "# define the coordinates of the x-dimension to generate data for\n",
    "x = np.linspace(-5, 5, 50)\n",
    "\n",
    "# define a set of parameters θ\n",
    "theta = dict(a=0, b=1, sigma_y=1)\n",
    "\n",
    "# then simulate some data and add some noise\n",
    "y = linreg(x=x, a=theta[\"a\"], b=theta[\"b\"])\n",
    "y_noise = rng.normal(loc=y, scale=theta[\"sigma_y\"])"
   ]
  },
  {
   "cell_type": "markdown",
   "metadata": {},
   "source": [
    "## The pymob magic 🪄\n",
    "\n",
    "So far we have not done anythin special. Pymob exists, because wrangling dimensions of input and output data, nested data-structures, missing data is painful. We avoid most of the mess by using `xarray` as a common input/output format. So we have to transform our data into a `xarray.Dataset` and add it to the simulation."
   ]
  },
  {
   "cell_type": "code",
   "execution_count": null,
   "metadata": {},
   "outputs": [],
   "source": [
    "import xarray as xr\n",
    "\n",
    "sim.observations = xr.DataArray(y_noise, coords={\"x\": x}).to_dataset(name=\"y\")"
   ]
  },
  {
   "cell_type": "markdown",
   "metadata": {},
   "source": [
    "This worked 🎉 `sim.config.data_structure` will now give us some information about the layout of our data, which will handle the data transformations in the background.\n",
    "\n",
    "We can give `pymob` additional information about the data structure of our observations and intermediate (unobserved) variables that are simulated. This can be done with `sim.config.data_structure.y = DataVariable(dimensions=[\"x\"])`.\n",
    "These information can be used to switch the dimensional order of the observations or provide data variables that have differing dimensions from the observations, if needed. But if the dataset is ordinary, simply setting `sim.observations` property with a `xr.Dataset` will be sufficient.\n",
    "\n",
    "```{admonition} Scalers\n",
    ":class: hint\n",
    "We also notice a mysterious Scaler message. This tells us that our data variable has been identified and a scaler was constructed, which transforms the variable between [0, 1]. This has no effect at the moment, but it can be used later. Scaling can be powerful to help parameter estimation in more complex models.\n",
    "```\n",
    "\n",
    "## Parameterizing a model\n",
    "\n",
    "Parameters are specified via the `FloatParam` or `ArrayParam` class. Parameters can be marked free or fixed depending on whether they should be variable during an optimization procedure."
   ]
  },
  {
   "cell_type": "code",
   "execution_count": null,
   "metadata": {},
   "outputs": [],
   "source": [
    "from pymob.sim.config import Param\n",
    "sim.config.model_parameters.a = Param(value=0, free=False)\n",
    "sim.config.model_parameters.b = Param(value=3, free=True)\n",
    "# this makes sure the model parameters are available to the model.\n",
    "sim.model_parameters[\"parameters\"] = sim.config.model_parameters.value_dict"
   ]
  },
  {
   "cell_type": "markdown",
   "metadata": {},
   "source": [
    "\n",
    "`sim.model_parameters` is a dictionary that holds the model input data. The keys it takes by default are `parameters`, `y0` and `x_in`. In our case, we have a analytic model and need only `parameters`. In situations, where initial values for variables are needed, they can be provided with `sim.model_parameters[\"y0\"] = ...`. \n",
    "\n",
    "```{admonition} generating input for solvers\n",
    ":class: hint\n",
    "A helpful function to generate `y0` or `x_in` from observations is `SimulationBase.parse_input`, combined with settings of `config.simulation.y0`\n",
    "```"
   ]
  },
  {
   "cell_type": "markdown",
   "metadata": {},
   "source": [
    "\n",
    "## Running the model 🏃\n",
    "\n",
    "The model is prepared with a parameter set and executed with "
   ]
  },
  {
   "cell_type": "code",
   "execution_count": null,
   "metadata": {},
   "outputs": [],
   "source": [
    "# put everything in place for running the simulation\n",
    "sim.dispatch_constructor()\n",
    "\n",
    "# run\n",
    "evaluator = sim.dispatch(theta={\"b\":3})\n",
    "evaluator()\n",
    "evaluator.results"
   ]
  },
  {
   "cell_type": "markdown",
   "metadata": {},
   "source": [
    "This returns a dataset which is of the exact same shape as the observation dataset, plus intermediate variables that were created during the simulation, if they are tracked by the solver.\n",
    "\n",
    "Although this API seems to be a bit clunky, it is necessary, to make sure that simulations that are executed in parallel are isolated from each other.\n",
    "\n",
    "\n",
    "## Estimating parameters \n",
    "\n",
    "We are almost set infer the parameters of the model. We add another parameter to also estimate the error of the parameters, We use a lognormal distribution for it. We also specify an error model for the distribution. This will be \n",
    "\n",
    "$$y_{obs} \\sim Normal (y, \\sigma_y)$$"
   ]
  },
  {
   "cell_type": "code",
   "execution_count": null,
   "metadata": {},
   "outputs": [],
   "source": [
    "sim.config.model_parameters.sigma_y = Param(free=True , prior=\"lognorm(scale=1,s=1)\")\n",
    "sim.config.model_parameters.b.prior = \"lognorm(scale=1,s=1)\"\n",
    "\n",
    "sim.config.error_model.y = \"normal(loc=y,scale=sigma_y)\""
   ]
  },
  {
   "cell_type": "markdown",
   "metadata": {},
   "source": [
    "```{admonition} numpyro distributions\n",
    ":class: warning\n",
    "Currently only few distributions are implemented in the numpyro backend. This API will soon change, so that basically any distribution can be used to specifcy parameters. \n",
    "```\n",
    "\n",
    "Finally, we let our inferer run the paramter estimation procedure with the numpyro backend and a NUTS kernel. This does the job in a few seconds"
   ]
  },
  {
   "cell_type": "code",
   "execution_count": null,
   "metadata": {},
   "outputs": [],
   "source": [
    "sim.set_inferer(\"numpyro\")\n",
    "sim.inferer.config.inference_numpyro.kernel = \"nuts\"\n",
    "sim.inferer.run()\n",
    "\n",
    "sim.inferer.idata.posterior"
   ]
  },
  {
   "cell_type": "markdown",
   "metadata": {},
   "source": [
    "We can inspect our estimates and see that the parameters are well esimtated by the model. Note that we only get an estimate for $b$. This is because earlier we set the parameter `a` with the flag `free=False` this effectively excludes it from estimation and uses the default value, which was set to the true value `a=0`."
   ]
  },
  {
   "cell_type": "markdown",
   "metadata": {},
   "source": [
    "\n",
    "## Exporting the simulation and running it via the case study API\n",
    "\n",
    "After constructing the simulation, all settings of the simulation can be exported to a comprehensive configuration file, along with all the default settings. This is as simple as "
   ]
  },
  {
   "cell_type": "code",
   "execution_count": null,
   "metadata": {},
   "outputs": [],
   "source": [
    "import os\n",
    "sim.config.case_study.name = \"quickstart\"\n",
    "sim.config.case_study.scenario = \"test\"\n",
    "sim.config.create_directory(\"scenario\", force=True)\n",
    "sim.config.create_directory(\"results\", force=True)\n",
    "\n",
    "# usually we expect to have a data directory in the case\n",
    "os.makedirs(sim.data_path, exist_ok=True)\n",
    "sim.save_observations(force=True)\n",
    "sim.config.save(force=True)"
   ]
  },
  {
   "cell_type": "markdown",
   "metadata": {},
   "source": [
    "The simulation will be saved to the default path (`CASE_STUDY/scenarios/SCENARIO/settings.cfg`) or to a custom path spcified with the `fp` keyword. `force=True` will overwrite any existing config file, which is the reasonable choice in most cases.\n",
    "\n",
    "From there on, the simulation is (almost) ready to be executable from the commandline.\n",
    "\n",
    "### Commandline API\n",
    "\n",
    "The commandline API runs a series of commands that load the case study, execute the {meth}`pymob.simulation.SimulationBase.initialize` method and perform some more initialization tasks, before running the required job.\n",
    "\n",
    "+ `pymob-infer`: Runs an inference job e.g. `pymob-infer --case_study=quickstart --scenario=test --inference_backend=numpyro`. While there are more commandline options, these are the two required "
   ]
  }
 ],
 "metadata": {
  "kernelspec": {
   "display_name": "damage-proxy",
   "language": "python",
   "name": "python3"
  },
  "language_info": {
   "codemirror_mode": {
    "name": "ipython",
    "version": 3
   },
   "file_extension": ".py",
   "mimetype": "text/x-python",
   "name": "python",
   "nbconvert_exporter": "python",
   "pygments_lexer": "ipython3",
   "version": "3.11.5"
  }
 },
 "nbformat": 4,
 "nbformat_minor": 2
}
